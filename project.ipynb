{
 "cells": [
  {
   "cell_type": "markdown",
   "metadata": {},
   "source": [
    "# Check the data"
   ]
  },
  {
   "cell_type": "code",
   "execution_count": 54,
   "metadata": {
    "scrolled": false
   },
   "outputs": [
    {
     "name": "stdout",
     "output_type": "stream",
     "text": [
      "                                                   law  \\\n",
      "0             訂定「金融科技創新實驗管理辦法」及「金融科技創新實驗審查會議及評估會議運作辦法」   \n",
      "1                               訂定「金融科技創新實驗民事爭議處理收費辦法」   \n",
      "2                               修正「保險業防制洗錢及打擊資恐內部控制要點」   \n",
      "3                                預告辦理融資性租賃業務事業防制洗錢辦法草案   \n",
      "4    預告修正「證券發行人財務報告編製準則」、「證券商財務報告編製準則」、「期貨商財務報告編製準則...   \n",
      "..                                                 ...   \n",
      "655  預告訂定「境內法人於國際金融業務分行開立授信目的帳戶規定」（預告起迄日： 109.09.25...   \n",
      "656  預告修正「證券投資信託事業管理規則」部分條文草案（預告起迄日： 109.09.25 ～ 10...   \n",
      "657            金管會發布「資本市場藍圖架構」，並預計於今年底提出「資本市場藍圖」具體推動方案   \n",
      "658  預告修正「證券投資信託事業管理規則」部分條文草案(預告期間：109.9.25~109.11.23)   \n",
      "659         街口證券投資信託股份有限公司及其人員違反證券投資信託事業及期貨信託事業管理法令處分案   \n",
      "\n",
      "                                              abstract  \\\n",
      "0            訂定「金融科技創新實驗管理辦法」及「金融科技創新實驗審查會議及評估會議運作辦法」。   \n",
      "1                              訂定「金融科技創新實驗民事爭議處理收費辦法」。   \n",
      "2    為提升保險經紀人及保險代理人公司防制洗錢及打擊資恐相關工作效能並配合完備相關法令規定，已通過...   \n",
      "3    行政院於106年6月7日指定金管會為洗錢防制法第5條第2項所稱「辦理融資性租賃業務事業」之洗...   \n",
      "4    配合我國將於108年與國際同步採用國際財務報導準則第16號「租賃」(下稱IFRS 16)及參...   \n",
      "..                                                 ...   \n",
      "655  本令依據國際金融業務條例第四條第一項第二款及第十一款規定辦理，目的係為因應國際實施經濟實質法...   \n",
      "656  修正要點如下：\\n一、為健全證券投資信託事業業務經營與保護投資人權益，爰參酌證券商管理規則第...   \n",
      "657  金管會以「建立資本市場參與者共好共榮之生態環境」為核心價值主軸，並以「營造公平效率、創新開放...   \n",
      "658  新增四條，修正要點臚列如下：\\n一、為健全證券投資信託事業業務經營與保護投資人權益，爰參酌證...   \n",
      "659  主旨：處街口證券投資信託股份有限公司（以下簡稱街口投信）警告及罰鍰合計新臺幣300萬元，限制...   \n",
      "\n",
      "                                       unit  \n",
      "0                                       ag處  \n",
      "1                                      None  \n",
      "2                                    az\\nae  \n",
      "3                                         E  \n",
      "4                                    C\\nF\\n  \n",
      "..                                      ...  \n",
      "655                                 【B】\\ncf  \n",
      "656                                     【I】  \n",
      "657               【C】\\nao處\\nba處\\nca處\\nby處\\n  \n",
      "658                                     【I】  \n",
      "659  【I】\\nbu\\nam處\\n15處\\nas處(48部、49部)\\nbd處\\n  \n",
      "\n",
      "[656 rows x 3 columns]\n"
     ]
    }
   ],
   "source": [
    "import pandas as pd\n",
    "\n",
    "df = pd.read_excel ('./anonymous_law_impact_clean.xlsx')\n",
    "df = df[['法令/函釋連結', '內容重點摘要' , '受影響\\n公司/單位']]\n",
    "df = df.dropna()\n",
    "df.columns = ['law', 'abstract', 'unit']\n",
    "print(df)"
   ]
  },
  {
   "cell_type": "code",
   "execution_count": 83,
   "metadata": {},
   "outputs": [],
   "source": [
    "import re\n",
    "def make_word_dict(df_):\n",
    "    #df_ = df['unit'] or other column slices\n",
    "    word_dict = []\n",
    "    for unit in df_:\n",
    "        unit = re.findall('[0-9a-zA-Z\\-]+',unit)\n",
    "        word_dict.append(unit)\n",
    "    return word_dict"
   ]
  },
  {
   "cell_type": "code",
   "execution_count": 72,
   "metadata": {},
   "outputs": [
    {
     "name": "stdout",
     "output_type": "stream",
     "text": [
      "[['25'], ['I', 'am'], ['B', 'aj'], ['C', 'ca'], ['C', 'ca'], ['B', 'cd', 'bn'], ['C', 'bz', 'bd', 'I', 'as', 'as', 'bd', 'F', 'as', 'bd'], ['B', 'ar', '25'], ['C', 'ca'], ['C', 'bd', 'ca', 'an'], ['A', 'bw'], ['H', 'bz', 'B', 'ar', '26', 'C'], ['B', 'bx'], ['C', 'ca'], ['B', 'bx', 'cd', 'bl', 'ca'], ['C', 'ca'], ['C', 'ao', 'F'], ['H', 'aq', 'B', 'ar', 'C', 'ao', 'an'], ['B', 'bx'], ['B', 'bx', '25', 'ai', 'bv'], ['B', 'av'], ['B', 'aj'], ['B', 'bx'], ['B', 'bx'], ['B', '9'], ['B', 'bx'], ['B', 'bx', 'cd', 'bl', 'ca'], ['B', 'av'], ['F'], ['H'], ['H', 'ar', 'B', 'ar'], ['B', 'ai', 'bv'], ['B', 'bx', 'an'], ['C'], ['B', 'bx'], ['B', 'bx'], ['B', 'bx'], ['B', 'bx', 'ch'], ['B', 'bx'], ['B', 'bx', 'ch', 'ay'], ['B', 'bx', 'ch', 'ay'], ['B', 'bx'], ['B'], ['C', 'an'], ['B', 'bx'], ['C', 'ca'], ['B', 'bx'], ['C', 'ca', 'an', 'bd'], ['C'], ['B', 'bx'], ['C', 'ba', 'bz', 'an', 'bd', 'bn'], ['B', 'ai'], ['C', 'ba', 'aa', 'ao', 'ca'], ['C'], ['C'], ['C'], ['B', '26', 'C', 'ao'], ['ai', 'bv'], ['B', 'bq', 'bp', 'ai'], ['B', 'bp'], ['B', 'aj'], ['C'], ['C', 'ca'], ['B', 'bx'], ['C'], ['B', 'ar'], ['B', 'bx', 'bv'], ['B', 'bx'], ['B', 'ay', 'ar', '25', 'C', 'ao', 'an'], ['C', 'F'], ['B'], ['B', 'C', 'I'], ['B'], ['B', 'cd', 'bn'], ['B', 'bd'], ['B', 'aj', 'I'], ['B', 'ai'], ['B', 'bv', 'av', 'ch', 'bp'], ['B', 'bx'], ['B', 'bx'], ['C', 'ca'], ['B', 'bn'], ['H', 'ar', 'B', 'ar'], ['B', 'ar'], ['H', 'ar', 'B', 'ar'], ['C', 'an', 'ca', 'ao', 'bd'], ['B', 'bx', 'cd', 'bl', 'C', 'ca', 'ba', 'aa'], ['H'], ['H', 'ar', 'B', 'ar'], ['C', 'ca'], ['B'], ['C'], ['H', 'bz'], ['H', 'B', 'ar'], ['B', '9', 'bp', 'br'], ['B', '26', '25', 'bx'], ['B', 'aj', 'bm', 'ai'], ['B', 'aj', 'I'], ['B'], ['H', 'bz'], ['B', 'bn'], ['C', 'ba'], ['C', 'ba'], ['C', 'ba'], ['C', 'ba', 'ca'], ['C', 'ba'], ['H', 'ar', 'B', 'ar', 'C', 'ao', 'an'], ['H', 'ar', 'B', 'ar', 'C', 'ao'], ['H'], ['H', 'B', '26'], ['B', 'ay', 'ar', '25', 'C', 'ao', 'an'], ['B', 'ay', 'ar', '25', 'C', 'ao', 'an'], ['A'], ['B', 'bx', 'ai', 'bv', '25'], ['B', 'bx', 'ai', 'bv', '25'], ['H'], ['B', '26', 'bz', 'cd', 'C'], ['B', 'C', 'ca', 'ao', 'an'], ['B', 'bx', 'ai', 'bv', '25'], ['B', 'bx', 'ai', 'bv', '25'], ['C', 'ba', 'aa', 'bn'], ['C'], ['C', 'ba', 'aa', 'bn', 'bd'], ['C', 'bd'], ['C'], ['C', 'ca'], ['C', 'ca'], ['C', 'ca'], ['H'], ['B', 'bm', 'br'], ['C'], ['C'], ['H', 'aq'], ['B', 'bx', 'cd', 'bl', 'C', 'ba'], ['B', 'aj'], ['C', 'ao'], ['B', 'bx', 'ai', 'bq', 'cd'], ['B', '26', 'bz', 'cd', 'C'], ['C', 'ca'], ['C'], ['C', 'ca'], ['B', 'bx'], ['B', 'ai'], ['C', 'ao'], ['B', '26'], ['B', 'br', 'bp', 'C', 'ca'], ['C', 'bd', 'ca'], ['C', 'ca'], ['B', 'bq', 'bp'], ['H', 'aq', 'af'], ['C'], ['C'], ['B'], ['C', 'ca'], ['B'], ['C', 'ba'], ['C'], ['B', 'br', 'bm', 'ai'], ['I'], ['H', 'bz', 'B', '26'], ['B', 'ay', 'ar', '25', 'C', 'ao', 'an'], ['C'], ['C', 'ca'], ['I'], ['C', 'ca'], ['C', 'ao'], ['C'], ['B', 'bx'], ['H', 'bz'], ['C'], ['C'], ['H', 'aq', 'af'], ['B', '25', 'an'], ['C'], ['I'], ['B', 'bq', 'bp', 'bm', 'br'], ['H', 'aq', 'af'], ['B', 'bv'], ['B', 'bq', 'bp'], ['H', 'aq', 'af'], ['B', 'bq', 'bp'], ['C'], ['I'], ['C', 'ca'], ['B', 'bx'], ['C', 'ba', 'bn'], ['B', 'bq', 'bp'], ['C', 'ca'], ['B', 'bp'], ['C', 'ca'], ['B', 'bv', 'ai', 'bp', 'br'], ['H', 'B', 'bd', 'C', 'bd'], ['B', 'bx'], ['I'], ['B', 'bm', 'br'], ['B', 'br', 'bm'], ['C'], ['H', 'bz'], ['C', 'ca', 'bd'], ['B', 'bx', 'br', 'bv'], ['B', 'bx'], ['B', 'bx'], ['B', 'bx'], ['B', 'bx'], ['B', 'bx'], ['B', 'bx'], ['B', 'bx'], ['I'], ['I'], ['B', 'bn'], ['H', 'aq', 'B', 'ar', 'C', 'an'], ['H', 'aq', 'B', 'ar', 'C', 'an'], ['H', 'aq', 'B', 'ar', 'C', 'an'], ['H', 'aq', 'B', 'ar', 'C', 'an'], ['H', 'aq'], ['B', 'ar', 'C', 'an'], ['H', 'aq', 'an'], ['H', 'aq', 'B', 'ar', 'C', 'an'], ['H', '25'], ['C'], ['C', 'ca'], ['I', 'an'], ['C', 'ca', 'ao', 'bd', 'an'], ['B', 'bm', 'br'], ['B', 'bm', 'br'], ['B', 'bm', 'br'], ['I', 'an', 'am'], ['H'], ['B', 'bm', 'br'], ['B', 'bx'], ['B', 'bx'], ['B', 'bx'], ['B', 'bx'], ['B', 'bx', 'bv', 'ai', '25'], ['B', 'bx'], ['B', 'bx'], ['B', 'bx'], ['H', 'bz', 'B', 'bz', 'bn'], ['B', 'bl'], ['B', 'C', 'ca'], ['B', 'bx'], ['C', 'ba', 'ca'], ['B', 'bx'], ['B', 'bx'], ['H', 'bz', 'B', '26', 'bz'], ['C', 'ca'], ['B', 'bx', 'cd', 'bl', 'C', 'ba'], ['H', 'ag', '46', 'bs'], ['B', 'bn', 'C', 'I', 'am'], ['B', 'bx'], ['B', 'bd'], ['H', 'bz', 'an'], ['B', 'bn', 'C', 'ao', 'I', 'am'], ['B', 'ar', 'C', 'an', 'ao', 'I', 'am'], ['H', 'aq', '25', 'B', 'ar', '25'], ['B', 'C', 'by', 'bs', 'an', 'I', 'bs', 'bf', 'as'], ['B', 'bx', 'C'], ['C', 'I', 'as'], ['F'], ['I', 'as'], ['C', 'ca'], ['C'], ['C', 'aa', 'ba'], ['C', 'ca'], ['C', 'ba', 'aa', 'ca'], ['H', 'bz'], ['H', 'an', 'B', 'an', 'C', 'an'], ['B', 'bx'], ['H', 'aq', 'bz', 'B', 'bz', 'bn', 'cd', 'bp', 'C', 'ba', 'aa', 'bn'], ['B', 'bx'], ['I', 'am', 'as'], ['B', 'bx'], ['B', 'bx'], ['B', 'bx'], ['B', 'bx'], ['B', 'bx'], ['B', 'bx'], ['B', 'bd'], ['B'], ['I'], ['C', 'ao', 'ba', 'ca', 'by'], ['I'], ['I', 'am', '15', 'as', 'bd']]\n"
     ]
    }
   ],
   "source": [
    "total = []\n",
    "for unit in df['unit']:\n",
    "    unit = re.findall('(【[A-Z]】|\\s[a-z0-9]+處)',unit)\n",
    "    temp = []\n",
    "    for unit_ in unit:\n",
    "        unit_ = unit_.replace('【','').replace('】','').replace('處','').replace('\\n','')\n",
    "        temp.append(unit_)\n",
    "    if temp:\n",
    "        total.append(temp)\n",
    "print(total)"
   ]
  },
  {
   "cell_type": "code",
   "execution_count": 80,
   "metadata": {},
   "outputs": [
    {
     "name": "stdout",
     "output_type": "stream",
     "text": [
      "defaultdict(<class 'list'>, {'I': ['am', 'as', 'bd', 'an', 'bs', 'bf', '15'], 'B': ['aj', 'cd', 'bn', 'ar', '25', '26', 'bx', 'bl', 'ca', 'ai', 'bv', 'av', '9', 'an', 'ch', 'ay', 'bq', 'bp', 'bd', 'br', 'bm', 'bz'], 'C': ['ca', 'bz', 'bd', 'an', 'ao', 'ba', 'bn', 'aa', 'by', 'bs'], 'F': ['as', 'bd'], 'A': ['bw'], 'H': ['bz', 'aq', 'ar', 'af', 'an', '25', 'ag', '46', 'bs']})\n"
     ]
    }
   ],
   "source": [
    "from collections import defaultdict\n",
    "total = []\n",
    "d = defaultdict(list)\n",
    "for unit in df['unit']:\n",
    "    unit = re.findall('(【[A-Z]】|\\s[a-z0-9]+處)',unit)\n",
    "    temp = []\n",
    "    for unit_ in unit:\n",
    "        unit_ = unit_.replace('【','').replace('】','').replace('處','').replace('\\n','')\n",
    "        temp.append(unit_)\n",
    "    if temp:\n",
    "        total.append(temp)\n",
    "\n",
    "for unit in total:\n",
    "    #若抓到大寫字母，即把後面的key丟入對應的字典標籤，直到遇到下一個大寫字母\n",
    "    #d[key].append(value)\n",
    "    search_bit = 0\n",
    "    key = ''\n",
    "    for unit_ in unit:\n",
    "        if re.search('[A-Z]',unit_):\n",
    "            key = unit_\n",
    "            search_bit = 1\n",
    "        else :\n",
    "            if search_bit ==1:\n",
    "                if unit_ not in d[key]:\n",
    "                    d[key].append(unit_)\n",
    "print(d)"
   ]
  },
  {
   "cell_type": "code",
   "execution_count": 100,
   "metadata": {},
   "outputs": [
    {
     "name": "stdout",
     "output_type": "stream",
     "text": [
      "{'I': 22, 'B': 247, 'C': 129, 'F': 3, 'A': 2, 'H': 45}\n"
     ]
    }
   ],
   "source": [
    "from collections import defaultdict\n",
    "total = []\n",
    "d_statistic = {}\n",
    "for unit in df['unit']:\n",
    "    unit = re.findall('(【[A-Z]】|\\s[a-z0-9]+處)',unit)\n",
    "    temp = []\n",
    "    for unit_ in unit:\n",
    "        unit_ = unit_.replace('【','').replace('】','').replace('處','').replace('\\n','')\n",
    "        temp.append(unit_)\n",
    "    if temp:\n",
    "        total.append(temp)\n",
    "\n",
    "for unit in total:\n",
    "    #若抓到大寫字母，即把後面的key丟入對應的字典標籤，直到遇到下一個大寫字母\n",
    "    #d[key].append(value)\n",
    "    search_bit = 0\n",
    "    key = ''\n",
    "    for unit_ in unit:\n",
    "        if re.search('[A-Z]',unit_):\n",
    "            key = unit_\n",
    "            search_bit = 1\n",
    "            if not key in d_statistic:\n",
    "                d_statistic[key] = 1\n",
    "        else :\n",
    "            if search_bit ==1:\n",
    "                d_statistic[key] += 1\n",
    "print(d_statistic)"
   ]
  },
  {
   "cell_type": "code",
   "execution_count": 94,
   "metadata": {},
   "outputs": [
    {
     "name": "stdout",
     "output_type": "stream",
     "text": [
      "{'az': 23, 'ae': 23, 'ad': 5, 'ab': 32, 'bd': 2, 'bt': 1}\n"
     ]
    }
   ],
   "source": [
    "slice = df['unit'][0:351]\n",
    "word_dict = make_word_dict(slice)\n",
    "\n",
    "exception = {}\n",
    "for word in word_dict:\n",
    "    for word_ in word:\n",
    "        if not re.search('[A-Z]',word_):\n",
    "            if word_ not in (d['I'] and d['B'] and d['C'] and d['F'] and d['A'] and d['H']):\n",
    "                if word_ not in exception:\n",
    "                    exception[word_] = 1\n",
    "                else:\n",
    "                    exception[word_] += 1\n",
    "print(exception)"
   ]
  }
 ],
 "metadata": {
  "kernelspec": {
   "display_name": "local-venv",
   "language": "python",
   "name": "local-venv"
  },
  "language_info": {
   "codemirror_mode": {
    "name": "ipython",
    "version": 3
   },
   "file_extension": ".py",
   "mimetype": "text/x-python",
   "name": "python",
   "nbconvert_exporter": "python",
   "pygments_lexer": "ipython3",
   "version": "3.6.9"
  }
 },
 "nbformat": 4,
 "nbformat_minor": 4
}
